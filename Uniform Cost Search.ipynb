{
  "nbformat": 4,
  "nbformat_minor": 0,
  "metadata": {
    "colab": {
      "provenance": []
    },
    "kernelspec": {
      "name": "python3",
      "display_name": "Python 3"
    },
    "language_info": {
      "name": "python"
    }
  },
  "cells": [
    {
      "cell_type": "code",
      "execution_count": null,
      "metadata": {
        "colab": {
          "base_uri": "https://localhost:8080/"
        },
        "id": "3gEzilbJchLi",
        "outputId": "00dd4b8b-a00e-46ed-cd58-fa9ae7824f37"
      },
      "outputs": [
        {
          "output_type": "stream",
          "name": "stdout",
          "text": [
            "Optimal Path: A -> B -> D -> F\n",
            "Total Cost: 8\n"
          ]
        }
      ],
      "source": [
        "import heapq\n",
        "\n",
        "class Graph:\n",
        "    def __init__(self):\n",
        "        self.graph = {}\n",
        "\n",
        "    def add_edge(self, u, v, weight):\n",
        "        if u not in self.graph:\n",
        "            self.graph[u] = []\n",
        "        self.graph[u].append((v, weight))\n",
        "\n",
        "    def ucs(self, start, goal):\n",
        "        visited = set()\n",
        "        pq = [(0, start, [])]  # Priority queue (cost, node, path)\n",
        "\n",
        "        while pq:\n",
        "            cost, node, path = heapq.heappop(pq)\n",
        "\n",
        "            if node in visited:\n",
        "                continue\n",
        "\n",
        "            path = path + [node]\n",
        "\n",
        "            if node == goal:\n",
        "                return path, cost\n",
        "\n",
        "            visited.add(node)\n",
        "\n",
        "            for neighbor, weight in self.graph.get(node, []):\n",
        "                if neighbor not in visited:\n",
        "                    heapq.heappush(pq, (cost + weight, neighbor, path))\n",
        "\n",
        "        return None, float('inf')\n",
        "\n",
        "if __name__ == \"__main__\":\n",
        "    g = Graph()\n",
        "    g.add_edge('A', 'B', 1)\n",
        "    g.add_edge('A', 'C', 5)\n",
        "    g.add_edge('B', 'D', 3)\n",
        "    g.add_edge('C', 'D', 2)\n",
        "    g.add_edge('B', 'E', 6)\n",
        "    g.add_edge('D', 'F', 4)\n",
        "    g.add_edge('E', 'F', 1)\n",
        "\n",
        "    start_node = 'A'\n",
        "    goal_node = 'F'\n",
        "\n",
        "    path, cost = g.ucs(start_node, goal_node)\n",
        "\n",
        "    if path:\n",
        "        print(\"Optimal Path:\", ' -> '.join(path))\n",
        "        print(\"Total Cost:\", cost)\n",
        "    else:\n",
        "        print(\"No path found.\")\n"
      ]
    }
  ]
}